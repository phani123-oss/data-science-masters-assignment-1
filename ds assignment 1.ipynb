{
 "cells": [
  {
   "cell_type": "raw",
   "id": "86fe21c5-fe46-489e-a84c-d45c0582f9d3",
   "metadata": {},
   "source": [
    "#Q1. What are the characteristics of the tuples? Is tuple immutable?"
   ]
  },
  {
   "cell_type": "markdown",
   "id": "645c7d6c-bd23-461e-966a-9619be4d22c2",
   "metadata": {},
   "source": [
    "Tuples are collection of elements just like list .\n",
    "And tuples are immutable because , once we create a  tuple we change the data .\n",
    "here we cannot change the data so tuples are immutable.\n",
    "tuple are denoted in an open paranthesis .inside paranthesis we can write numbers,strings.\n",
    "ex: (1,2,3,\"phani\")"
   ]
  },
  {
   "cell_type": "raw",
   "id": "d005efeb-07a0-4e75-974d-44b1bfbab22c",
   "metadata": {},
   "source": [
    "#Q2. What are the two tuple methods in python? Give an example of each method. Give a reason why\n",
    "tuples have only two in-built methods as compared to Lists."
   ]
  },
  {
   "cell_type": "markdown",
   "id": "d152fcd8-edee-41d6-b563-45949ccb8bc6",
   "metadata": {},
   "source": [
    "answer: Tuples have only two methods those are 1. count\n",
    "                                               2. index\n",
    "    Count: This methods gives the number of values appeared in a tuple\n",
    "    index: This method gives the first occurance of a specifiedvalue."
   ]
  },
  {
   "cell_type": "code",
   "execution_count": 2,
   "id": "0fb2a0f6-6f6d-4bba-99fe-3704e712ca86",
   "metadata": {},
   "outputs": [
    {
     "data": {
      "text/plain": [
       "3"
      ]
     },
     "execution_count": 2,
     "metadata": {},
     "output_type": "execute_result"
    }
   ],
   "source": [
    "#examples:\n",
    "t1 = (1,2,2,3,4,2,6,7,8,9)\n",
    "t1.count(2)"
   ]
  },
  {
   "cell_type": "code",
   "execution_count": 5,
   "id": "6f91e0c1-298c-4eac-9635-880e9e575ee9",
   "metadata": {},
   "outputs": [
    {
     "data": {
      "text/plain": [
       "1"
      ]
     },
     "execution_count": 5,
     "metadata": {},
     "output_type": "execute_result"
    }
   ],
   "source": [
    "t2=(1,2,2,3,4,2,6,7,8,9)\n",
    "t2.index(2)        #here the index we have is first occurence of 2"
   ]
  },
  {
   "cell_type": "code",
   "execution_count": 6,
   "id": "1d857e8f-6fcb-47e5-997b-0ad1e19a1d5a",
   "metadata": {},
   "outputs": [
    {
     "data": {
      "text/plain": [
       "7"
      ]
     },
     "execution_count": 6,
     "metadata": {},
     "output_type": "execute_result"
    }
   ],
   "source": [
    "t2.index(7)"
   ]
  },
  {
   "cell_type": "raw",
   "id": "a40ca233-31b6-4127-9010-a4733c6bec70",
   "metadata": {},
   "source": [
    "Q3. Which collection datatypes in python do not allow duplicate items? Write a code using a set to remove\n",
    "duplicates from the given list.\n",
    "List = [1, 1, 1, 2, 1, 3, 1, 4, 2, 1, 2, 2, 2, 3, 2, 4, 3, 1, 3, 2, 3, 3, 3, 4, 4, 1, 4, 2, 4, 3, 4, 4]"
   ]
  },
  {
   "cell_type": "code",
   "execution_count": 10,
   "id": "586fa2cb-6cc2-405c-8c16-36e8440d122e",
   "metadata": {},
   "outputs": [],
   "source": [
    "list1 = [1, 1, 1, 2, 1, 3, 1, 4, 2, 1, 2, 2, 2, 3, 2, 4, 3, 1, 3, 2, 3, 3, 3, 4, 4, 1, 4, 2, 4, 3, 4, 4]\n",
    "#in python the data type set was not allow duplicate items.\n",
    "#first we convert our list to set \n",
    "new = set(list1)"
   ]
  },
  {
   "cell_type": "code",
   "execution_count": 11,
   "id": "eda2045b-505c-4b33-a53e-cc28997d5d66",
   "metadata": {},
   "outputs": [
    {
     "data": {
      "text/plain": [
       "{1, 2, 3, 4}"
      ]
     },
     "execution_count": 11,
     "metadata": {},
     "output_type": "execute_result"
    }
   ],
   "source": [
    "new   #here duplicates removed automatically because we convert our list to set "
   ]
  },
  {
   "cell_type": "raw",
   "id": "15e38e22-16c6-41e4-ae6f-a6955a55198c",
   "metadata": {},
   "source": [
    "Q4. Explain the difference between the union() and update() methods for a set. Give an example of\n",
    "each method."
   ]
  },
  {
   "cell_type": "code",
   "execution_count": 12,
   "id": "c17da9ed-61e5-49eb-98dd-17e96ed9c427",
   "metadata": {},
   "outputs": [],
   "source": [
    "#exapmle:\n",
    "set1 = {1,2,3}\n",
    "set2 = {3,4,5}\n",
    "union = set1.union(set2)"
   ]
  },
  {
   "cell_type": "code",
   "execution_count": 13,
   "id": "b58065de-c4fa-4451-a992-44e551cfa7d5",
   "metadata": {},
   "outputs": [
    {
     "data": {
      "text/plain": [
       "{1, 2, 3, 4, 5}"
      ]
     },
     "execution_count": 13,
     "metadata": {},
     "output_type": "execute_result"
    }
   ],
   "source": [
    "union"
   ]
  },
  {
   "cell_type": "markdown",
   "id": "069e4a67-e422-4b6f-a9ea-cc8ea9753128",
   "metadata": {},
   "source": [
    "Union of a set means it gives a new set that contains unique elements of both."
   ]
  },
  {
   "cell_type": "code",
   "execution_count": 24,
   "id": "5869207c-c265-48cd-b016-19399c7d7de2",
   "metadata": {},
   "outputs": [],
   "source": [
    "#example:2\n",
    "set1 = {1,2,3,4}\n",
    "set2 = {4,5,6,7}\n",
    "set2.update(set1)"
   ]
  },
  {
   "cell_type": "code",
   "execution_count": 25,
   "id": "3ee5b122-2f67-469f-be6e-3fe6ffb17bbe",
   "metadata": {},
   "outputs": [
    {
     "name": "stdout",
     "output_type": "stream",
     "text": [
      "{1, 2, 3, 4, 5, 6, 7}\n"
     ]
    }
   ],
   "source": [
    "print(set2)"
   ]
  },
  {
   "cell_type": "markdown",
   "id": "a763af39-2b04-4d5d-9d52-e4fa2b81cec1",
   "metadata": {},
   "source": [
    "Update of set means it modify the the set that we want to update ,the work is it add elements from another set \n",
    "to our set that we want to update"
   ]
  },
  {
   "cell_type": "raw",
   "id": "d099ec97-293f-40ca-9e03-4d83132b3461",
   "metadata": {},
   "source": [
    "Q5. What is a dictionary? Give an example. Also, state whether a dictionary is ordered or unordered."
   ]
  },
  {
   "cell_type": "markdown",
   "id": "81075b4e-1acf-439a-a27b-37ba02149b94",
   "metadata": {},
   "source": [
    "A Dictionary in python is unordered collection of key vale pairs .\n",
    "ex:{\"name\":\"ex\",\"age\":26}\n",
    "Dictionaries in python are unorderd because the order in which key value pair are stored may not be same as the order \n",
    "in which they were defined."
   ]
  },
  {
   "cell_type": "raw",
   "id": "1e5c9fc4-407f-48d4-8271-19329533ab6d",
   "metadata": {},
   "source": [
    "Q6. Can we create a nested dictionary? If so, please give an example by creating a simple one-level\n",
    "nested dictionary.\n",
    "\n",
    "yes we create a nested dictionary in python ."
   ]
  },
  {
   "cell_type": "code",
   "execution_count": 27,
   "id": "4798c79e-4e22-47b7-8355-29f860a6ea00",
   "metadata": {},
   "outputs": [],
   "source": [
    "student = {\"name\": \"John\",\"age\": 20,\"grades\": {\"math\": 90, \"science\": 85, \"english\": 95 }}"
   ]
  },
  {
   "cell_type": "code",
   "execution_count": 28,
   "id": "981ea105-62ae-4bdc-9ef9-b05a2b43dcfd",
   "metadata": {},
   "outputs": [
    {
     "data": {
      "text/plain": [
       "'John'"
      ]
     },
     "execution_count": 28,
     "metadata": {},
     "output_type": "execute_result"
    }
   ],
   "source": [
    "student[\"name\"]"
   ]
  },
  {
   "cell_type": "code",
   "execution_count": 31,
   "id": "aa4cbd55-565d-4ea3-8e84-4115b44a5d87",
   "metadata": {},
   "outputs": [
    {
     "data": {
      "text/plain": [
       "90"
      ]
     },
     "execution_count": 31,
     "metadata": {},
     "output_type": "execute_result"
    }
   ],
   "source": [
    "student[\"grades\"][\"math\"]"
   ]
  },
  {
   "cell_type": "raw",
   "id": "309a7d0e-0694-4e17-9710-a29cf8009c46",
   "metadata": {},
   "source": [
    "Q7. Using setdefault() method, create key named topics in the given dictionary and also add the value of\n",
    "the key as this list ['Python', 'Machine Learning’, 'Deep Learning']\n",
    "dict1 = {'language' : 'Python', 'course': 'Data Science Masters'}"
   ]
  },
  {
   "cell_type": "code",
   "execution_count": 36,
   "id": "2c755258-a0e0-4496-824b-18a9b3cd776e",
   "metadata": {},
   "outputs": [
    {
     "data": {
      "text/plain": [
       "['Python', 'Machine Learning ', 'deep learning']"
      ]
     },
     "execution_count": 36,
     "metadata": {},
     "output_type": "execute_result"
    }
   ],
   "source": [
    "dict1 = {'language' : 'Python', 'course': 'Data Science Masters'}\n",
    "topic = ['Python', 'Machine Learning ' ,'deep learning' ]\n",
    "dict1.setdefault('topic' , ['Python', 'Machine Learning ' ,'deep learning' ])"
   ]
  },
  {
   "cell_type": "code",
   "execution_count": 37,
   "id": "c14adf4f-a8e7-42ce-94e3-33761dbdfe98",
   "metadata": {},
   "outputs": [
    {
     "data": {
      "text/plain": [
       "{'language': 'Python',\n",
       " 'course': 'Data Science Masters',\n",
       " 'topic': ['Python', 'Machine Learning ', 'deep learning']}"
      ]
     },
     "execution_count": 37,
     "metadata": {},
     "output_type": "execute_result"
    }
   ],
   "source": [
    "dict1"
   ]
  },
  {
   "cell_type": "raw",
   "id": "4e0bc8b8-85f6-4050-b498-480a6df6ada7",
   "metadata": {},
   "source": [
    "Q8. What are the three view objects in dictionaries? Use the three in-built methods in python to display\n",
    "these three view objects for the given dictionary.\n",
    "dict1 = {'Sport': 'Cricket' , 'Teams': ['India', 'Australia', 'England', 'South Africa', 'Sri Lanka', 'New Zealand']}"
   ]
  },
  {
   "cell_type": "markdown",
   "id": "42bb1dbf-b86c-4e5a-acb6-42d82c44549f",
   "metadata": {},
   "source": [
    "In python three view objects are :\n",
    "    dict_keys : it represent the key of the ductionary keys.\n",
    "    dict_vale : it represent the value of dictionary values\n",
    "    dict_items : it gives key,value pair"
   ]
  },
  {
   "cell_type": "code",
   "execution_count": null,
   "id": "855fb4a9-e913-4fbe-a22d-d6fb155eb589",
   "metadata": {},
   "outputs": [],
   "source": []
  }
 ],
 "metadata": {
  "kernelspec": {
   "display_name": "Python 3 (ipykernel)",
   "language": "python",
   "name": "python3"
  },
  "language_info": {
   "codemirror_mode": {
    "name": "ipython",
    "version": 3
   },
   "file_extension": ".py",
   "mimetype": "text/x-python",
   "name": "python",
   "nbconvert_exporter": "python",
   "pygments_lexer": "ipython3",
   "version": "3.10.8"
  }
 },
 "nbformat": 4,
 "nbformat_minor": 5
}
